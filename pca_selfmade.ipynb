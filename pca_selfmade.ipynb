{
  "nbformat": 4,
  "nbformat_minor": 0,
  "metadata": {
    "colab": {
      "name": "pca_selfmade.ipynb",
      "provenance": []
    },
    "kernelspec": {
      "name": "python3",
      "display_name": "Python 3"
    }
  },
  "cells": [
    {
      "cell_type": "code",
      "metadata": {
        "id": "Ejj3Tz9CHYil",
        "outputId": "9a856bb9-167b-491a-d641-c3f29c63bdfc",
        "colab": {
          "base_uri": "https://localhost:8080/"
        }
      },
      "source": [
        "# 準備一個測試的矩陣, 你可以當成三筆資料(兩個欄位)\n",
        "import numpy as np\n",
        "X = np.array([[1, 4, 5], \n",
        "        [4, 2, 8], \n",
        "        [5, 8, 3]])\n",
        "X"
      ],
      "execution_count": 3,
      "outputs": [
        {
          "output_type": "execute_result",
          "data": {
            "text/plain": [
              "array([[1, 4, 5],\n",
              "       [4, 2, 8],\n",
              "       [5, 8, 3]])"
            ]
          },
          "metadata": {
            "tags": []
          },
          "execution_count": 3
        }
      ]
    },
    {
      "cell_type": "code",
      "metadata": {
        "id": "gIMCgCUTNPkO",
        "outputId": "6b9ddc49-5b21-4548-9c0f-24ad14ef4e4d",
        "colab": {
          "base_uri": "https://localhost:8080/"
        }
      },
      "source": [
        "# 先使用sklearn的PCA來看一下轉換的成果, 變成三筆資料(兩個欄位)\n",
        "from sklearn.decomposition import PCA\n",
        "pca = PCA(n_components=2)\n",
        "X_pca = pca.fit_transform(X)\n",
        "X_pca"
      ],
      "execution_count": 4,
      "outputs": [
        {
          "output_type": "execute_result",
          "data": {
            "text/plain": [
              "array([[-0.80537496,  2.31330309],\n",
              "       [-3.51815346, -1.51303103],\n",
              "       [ 4.32352842, -0.80027206]])"
            ]
          },
          "metadata": {
            "tags": []
          },
          "execution_count": 4
        }
      ]
    },
    {
      "cell_type": "code",
      "metadata": {
        "id": "lkRFiyf6UeNw",
        "outputId": "83102022-324a-435d-a2e7-6d40595b9699",
        "colab": {
          "base_uri": "https://localhost:8080/"
        }
      },
      "source": [
        "# 新的正交座標軸\n",
        "pca.components_"
      ],
      "execution_count": 5,
      "outputs": [
        {
          "output_type": "execute_result",
          "data": {
            "text/plain": [
              "array([[ 0.21248047,  0.76706308, -0.60536458],\n",
              "       [-0.93468378, -0.0211357 , -0.35485139]])"
            ]
          },
          "metadata": {
            "tags": []
          },
          "execution_count": 5
        }
      ]
    },
    {
      "cell_type": "code",
      "metadata": {
        "id": "F_iUXlwdaDDs",
        "outputId": "9e7b1717-0abb-4477-9c81-79d022606c15",
        "colab": {
          "base_uri": "https://localhost:8080/"
        }
      },
      "source": [
        "# 我們自己來試一次, 記得要把平均移到0\n",
        "# 先求Conv\n",
        "newX = X - X.mean(axis=0)\n",
        "COV = np.cov(newX.T)\n",
        "COV"
      ],
      "execution_count": 8,
      "outputs": [
        {
          "output_type": "execute_result",
          "data": {
            "text/plain": [
              "array([[ 4.33333333,  2.66666667, -0.66666667],\n",
              "       [ 2.66666667,  9.33333333, -7.33333333],\n",
              "       [-0.66666667, -7.33333333,  6.33333333]])"
            ]
          },
          "metadata": {
            "tags": []
          },
          "execution_count": 8
        }
      ]
    },
    {
      "cell_type": "code",
      "metadata": {
        "id": "ta28d0Zlqvk0"
      },
      "source": [
        "# 使用特徵值分解分解成三個矩陣, 我把順序換得跟講義一樣\n",
        "from numpy import linalg as LA\n",
        "W, V = LA.eig(COV)\n",
        "Q_T, A, Q = V, np.diag(W), V.T"
      ],
      "execution_count": 9,
      "outputs": []
    },
    {
      "cell_type": "code",
      "metadata": {
        "id": "BwwXWHolRMSq",
        "outputId": "0cffab17-cfe0-4226-af00-799036df0619",
        "colab": {
          "base_uri": "https://localhost:8080/"
        }
      },
      "source": [
        "# 你可以看到三個東西相乘起來就是我們的 COV\n",
        "Q_T.dot(A).dot(Q)"
      ],
      "execution_count": 11,
      "outputs": [
        {
          "output_type": "execute_result",
          "data": {
            "text/plain": [
              "array([[ 4.33333333,  2.66666667, -0.66666667],\n",
              "       [ 2.66666667,  9.33333333, -7.33333333],\n",
              "       [-0.66666667, -7.33333333,  6.33333333]])"
            ]
          },
          "metadata": {
            "tags": []
          },
          "execution_count": 11
        }
      ]
    },
    {
      "cell_type": "code",
      "metadata": {
        "id": "3T8w4mfSRjpW",
        "outputId": "d07206f0-8f54-4831-a7b9-37ee1a26e487",
        "colab": {
          "base_uri": "https://localhost:8080/"
        }
      },
      "source": [
        "# 利用係數取最大的兩個值, 你可以看到得到的兩個軸和sklearn得到的基本上是一樣的(只是方向相反而已)\n",
        "wq_pair = sorted(zip(W, Q), key=lambda x:x[0], reverse=True)\n",
        "Q_fil = np.array([v for w, v in wq_pair[:2]])\n",
        "Q_fil"
      ],
      "execution_count": 16,
      "outputs": [
        {
          "output_type": "execute_result",
          "data": {
            "text/plain": [
              "array([[-0.21248047, -0.76706308,  0.60536458],\n",
              "       [-0.93468378, -0.0211357 , -0.35485139]])"
            ]
          },
          "metadata": {
            "tags": []
          },
          "execution_count": 16
        }
      ]
    },
    {
      "cell_type": "code",
      "metadata": {
        "id": "TiP-a6WIZ2J_",
        "outputId": "e5f77dc4-aa77-45a8-ee34-877b5e9b134e",
        "colab": {
          "base_uri": "https://localhost:8080/"
        }
      },
      "source": [
        "# 兩個軸是否正交\n",
        "Q_fil[0].dot(Q_fil[1])"
      ],
      "execution_count": 19,
      "outputs": [
        {
          "output_type": "execute_result",
          "data": {
            "text/plain": [
              "-3.0531133177191805e-16"
            ]
          },
          "metadata": {
            "tags": []
          },
          "execution_count": 19
        }
      ]
    },
    {
      "cell_type": "code",
      "metadata": {
        "id": "k49WU4XlWU6T",
        "outputId": "6232cf14-d527-4ebd-cd1a-20c6472f93c9",
        "colab": {
          "base_uri": "https://localhost:8080/"
        }
      },
      "source": [
        "# 轉換過後得到的值\n",
        "Q_fil.dot(newX.T).T"
      ],
      "execution_count": 17,
      "outputs": [
        {
          "output_type": "execute_result",
          "data": {
            "text/plain": [
              "array([[ 0.80537496,  2.31330309],\n",
              "       [ 3.51815346, -1.51303103],\n",
              "       [-4.32352842, -0.80027206]])"
            ]
          },
          "metadata": {
            "tags": []
          },
          "execution_count": 17
        }
      ]
    }
  ]
}