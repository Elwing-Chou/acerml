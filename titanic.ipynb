{
  "nbformat": 4,
  "nbformat_minor": 0,
  "metadata": {
    "colab": {
      "name": "titanic.ipynb",
      "provenance": [],
      "private_outputs": true,
      "authorship_tag": "ABX9TyNiuMSPpDxCACgVYTRV5C5K",
      "include_colab_link": true
    },
    "kernelspec": {
      "name": "python3",
      "display_name": "Python 3"
    }
  },
  "cells": [
    {
      "cell_type": "markdown",
      "metadata": {
        "id": "view-in-github",
        "colab_type": "text"
      },
      "source": [
        "<a href=\"https://colab.research.google.com/github/Elwing-Chou/acerml/blob/main/titanic.ipynb\" target=\"_parent\"><img src=\"https://colab.research.google.com/assets/colab-badge.svg\" alt=\"Open In Colab\"/></a>"
      ]
    },
    {
      "cell_type": "code",
      "metadata": {
        "id": "ccPLMIgnBudp"
      },
      "source": [
        "from urllib.request import urlretrieve\n",
        "url = \"https://github.com/Elwing-Chou/acerml/raw/main/titanic/train.csv\"\n",
        "urlretrieve(url, \"train.csv\")\n",
        "url = \"https://github.com/Elwing-Chou/acerml/raw/main/titanic/test.csv\"\n",
        "urlretrieve(url, \"test.csv\")"
      ],
      "execution_count": null,
      "outputs": []
    },
    {
      "cell_type": "code",
      "metadata": {
        "id": "qOM3LHRBCGWi"
      },
      "source": [
        "import pandas as pd\n",
        "train_df = pd.read_csv(\"train.csv\", encoding=\"utf-8\")\n",
        "test_df = pd.read_csv(\"test.csv\", encoding=\"utf-8\")"
      ],
      "execution_count": null,
      "outputs": []
    },
    {
      "cell_type": "code",
      "metadata": {
        "id": "MJrfFNyaCyZu"
      },
      "source": [
        "datas = pd.concat([train_df, test_df], axis=0, ignore_index=True)\n",
        "datas = datas.drop([\"PassengerId\", \"Survived\"], axis=1)"
      ],
      "execution_count": null,
      "outputs": []
    },
    {
      "cell_type": "code",
      "metadata": {
        "id": "tzdgtllEIHiq"
      },
      "source": [
        "# Series[True/False list]\n",
        "s = datas.isna().sum()\n",
        "s[s > 0].sort_values(ascending=False)"
      ],
      "execution_count": null,
      "outputs": []
    },
    {
      "cell_type": "code",
      "metadata": {
        "id": "rXFOyCrAJwud"
      },
      "source": [
        "# 類別: 最常出現\n",
        "most = datas[\"Embarked\"].value_counts().idxmax()\n",
        "datas[\"Embarked\"] = datas[\"Embarked\"].fillna(most)"
      ],
      "execution_count": null,
      "outputs": []
    },
    {
      "cell_type": "code",
      "metadata": {
        "id": "S4zv2uUWKfIn"
      },
      "source": [
        "# 數值: 中位數\n",
        "med = datas.median().drop([\"Pclass\"])\n",
        "datas = datas.fillna(med)\n",
        "s = datas.isna().sum()\n",
        "s[s > 0].sort_values(ascending=False)"
      ],
      "execution_count": null,
      "outputs": []
    },
    {
      "cell_type": "code",
      "metadata": {
        "id": "_8n5ukCeMRTa"
      },
      "source": [
        "def cabinflow(c):\n",
        "    if pd.isna(c):\n",
        "        return c\n",
        "    else:\n",
        "        return c[0]\n",
        "datas[\"Cabin\"] = datas[\"Cabin\"].apply(cabinflow)\n",
        "datas[\"Cabin\"].value_counts()"
      ],
      "execution_count": null,
      "outputs": []
    },
    {
      "cell_type": "code",
      "metadata": {
        "id": "-VUsOIyKNDbM"
      },
      "source": [
        "dic = datas[\"Ticket\"].value_counts()\n",
        "def ticketflow(t):\n",
        "    return dic[t]\n",
        "datas[\"Ticket\"] = datas[\"Ticket\"].apply(ticketflow)\n",
        "datas[\"Ticket\"].value_counts()"
      ],
      "execution_count": null,
      "outputs": []
    },
    {
      "cell_type": "code",
      "metadata": {
        "id": "6KWT9jCXRnjz"
      },
      "source": [
        "def nameflow(n):\n",
        "    mid = n.split(\".\")[0].split(\",\")[-1]\n",
        "    return mid.strip()\n",
        "\n",
        "middle = datas[\"Name\"].apply(nameflow).value_counts()\n",
        "whitelist = middle.index[:4]\n",
        "\n",
        "def nameflow2(n):\n",
        "    mid = nameflow(n)\n",
        "    if mid in whitelist:\n",
        "        return mid\n",
        "    else:\n",
        "        return None\n",
        "datas[\"Name\"] = datas[\"Name\"].apply(nameflow2)\n",
        "datas[\"Name\"].value_counts()"
      ],
      "execution_count": null,
      "outputs": []
    },
    {
      "cell_type": "code",
      "metadata": {
        "id": "llvEbR3kTD68"
      },
      "source": [
        "# One-Hot Encoding\n",
        "datas = pd.get_dummies(datas)\n",
        "datas = pd.get_dummies(datas, columns=[\"Pclass\"])"
      ],
      "execution_count": null,
      "outputs": []
    },
    {
      "cell_type": "code",
      "metadata": {
        "id": "GKg8uR0OTqX9"
      },
      "source": [
        "datas"
      ],
      "execution_count": null,
      "outputs": []
    }
  ]
}