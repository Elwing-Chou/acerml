{
  "nbformat": 4,
  "nbformat_minor": 0,
  "metadata": {
    "colab": {
      "name": "pca_mnist.ipynb",
      "provenance": [],
      "private_outputs": true,
      "collapsed_sections": [],
      "authorship_tag": "ABX9TyOvntaTCkZf+m2uGq+V0QwB",
      "include_colab_link": true
    },
    "kernelspec": {
      "name": "python3",
      "display_name": "Python 3"
    }
  },
  "cells": [
    {
      "cell_type": "markdown",
      "metadata": {
        "id": "view-in-github",
        "colab_type": "text"
      },
      "source": [
        "<a href=\"https://colab.research.google.com/github/Elwing-Chou/acerml/blob/main/pca_mnist.ipynb\" target=\"_parent\"><img src=\"https://colab.research.google.com/assets/colab-badge.svg\" alt=\"Open In Colab\"/></a>"
      ]
    },
    {
      "cell_type": "code",
      "metadata": {
        "id": "cirUJH4RNQOP"
      },
      "source": [
        "from tensorflow.keras.datasets.mnist import load_data\n",
        "(x_train, y_train), (x_test, y_test) = load_data()"
      ],
      "execution_count": null,
      "outputs": []
    },
    {
      "cell_type": "code",
      "metadata": {
        "id": "gzTfhnyMNwE3"
      },
      "source": [
        "# https://matplotlib.org/3.1.0/tutorials/colors/colormaps.html\n",
        "import pandas as pd\n",
        "import matplotlib.pyplot as plt\n",
        "print(y_train[0])\n",
        "plt.imshow(x_train[0], cmap=\"gray\")\n",
        "pd.DataFrame(x_train[0])\n"
      ],
      "execution_count": null,
      "outputs": []
    },
    {
      "cell_type": "code",
      "metadata": {
        "id": "KJIY41QLPVfq"
      },
      "source": [
        "print(x_train.shape)\n",
        "print(x_test.shape)\n",
        "print(y_train.shape)\n",
        "print(y_test.shape)"
      ],
      "execution_count": null,
      "outputs": []
    },
    {
      "cell_type": "code",
      "metadata": {
        "id": "nZhC_4DfP0T3"
      },
      "source": [
        "x_train_reshape = x_train.reshape(60000, 784)\n",
        "x_test_reshape = x_test.reshape(10000, 784)\n",
        "pd.DataFrame(x_train_reshape)"
      ],
      "execution_count": null,
      "outputs": []
    },
    {
      "cell_type": "code",
      "metadata": {
        "id": "YLBWMO3jSo7X"
      },
      "source": [
        "from sklearn.decomposition import PCA\n",
        "pca = PCA(n_components=30)\n",
        "x_train_pca = pca.fit_transform(x_train_reshape)\n",
        "x_test_pca = pca.transform(x_test_reshape)\n",
        "sum(pca.explained_variance_ratio_)"
      ],
      "execution_count": null,
      "outputs": []
    },
    {
      "cell_type": "code",
      "metadata": {
        "id": "yoBVg2pXToP3"
      },
      "source": [
        "# 分類: x_train_pca, y_train\n",
        "# 分群: x_train_pca\n",
        "pd.DataFrame(x_train_pca)"
      ],
      "execution_count": null,
      "outputs": []
    },
    {
      "cell_type": "code",
      "metadata": {
        "id": "yjRpltQFUdLa"
      },
      "source": [
        "for i in range(9):\n",
        "    plt.subplot(3, 3, i+1)\n",
        "    plt.axis(\"off\")\n",
        "    plt.imshow(x_train[i])"
      ],
      "execution_count": null,
      "outputs": []
    },
    {
      "cell_type": "code",
      "metadata": {
        "id": "E5vVwsepU_0u"
      },
      "source": [
        "from sklearn.preprocessing import minmax_scale\n",
        "x_pca_inv = pca.inverse_transform(x_train_pca[:10])\n",
        "x_pca_inv = minmax_scale(x_pca_inv, axis=1)\n",
        "for i in range(9):\n",
        "    plt.subplot(3, 3, i+1)\n",
        "    plt.axis(\"off\")\n",
        "    plt.imshow(x_pca_inv[i].reshape(28, 28))"
      ],
      "execution_count": null,
      "outputs": []
    },
    {
      "cell_type": "code",
      "metadata": {
        "id": "v3MMxMmcUxHT"
      },
      "source": [
        "print(pca.components_.shape)\n",
        "com = minmax_scale(pca.components_, axis=1)\n",
        "width = 5\n",
        "height = len(com) // width + 1\n",
        "plt.figure(figsize=(10, 10))\n",
        "for i in range(len(com)):\n",
        "    plt.subplot(height, width, i+1)\n",
        "    plt.axis(\"off\")\n",
        "    plt.imshow(com[i].reshape(28, 28))"
      ],
      "execution_count": null,
      "outputs": []
    },
    {
      "cell_type": "code",
      "metadata": {
        "id": "cyGiQwUDYNUX"
      },
      "source": [
        "import seaborn as sns\n",
        "from sklearn.preprocessing import MinMaxScaler\n",
        "pca = PCA(n_components=2)\n",
        "x_test_pca = pca.fit_transform(x_test_reshape)\n",
        "scaler = MinMaxScaler()\n",
        "x_test_pca = scaler.fit_transform(x_test_pca)\n",
        "plt.figure(figsize=(10, 10))\n",
        "sns.scatterplot(x_test_pca[:, 0],\n",
        "                x_test_pca[:, 1],\n",
        "                hue=y_test,\n",
        "                palette=sns.color_palette(\"tab10\", 10))"
      ],
      "execution_count": null,
      "outputs": []
    },
    {
      "cell_type": "code",
      "metadata": {
        "id": "4DS_P2_lcVYW"
      },
      "source": [
        "import seaborn as sns\n",
        "from sklearn.manifold import TSNE\n",
        "from sklearn.preprocessing import MinMaxScaler\n",
        "tsne = TSNE(n_components=2)\n",
        "x_test_tsne = tsne.fit_transform(x_test_reshape)\n",
        "scaler = MinMaxScaler()\n",
        "x_test_tsne = scaler.fit_transform(x_test_tsne)\n",
        "plt.figure(figsize=(10, 10))\n",
        "sns.scatterplot(x_test_tsne[:, 0],\n",
        "                x_test_tsne[:, 1],\n",
        "                hue=y_test,\n",
        "                palette=sns.color_palette(\"tab10\", 10))"
      ],
      "execution_count": null,
      "outputs": []
    }
  ]
}